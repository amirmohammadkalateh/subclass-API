{
  "nbformat": 4,
  "nbformat_minor": 0,
  "metadata": {
    "colab": {
      "provenance": [],
      "authorship_tag": "ABX9TyOoh59+xhYkg6qLXb24sij6",
      "include_colab_link": true
    },
    "kernelspec": {
      "name": "python3",
      "display_name": "Python 3"
    },
    "language_info": {
      "name": "python"
    }
  },
  "cells": [
    {
      "cell_type": "markdown",
      "metadata": {
        "id": "view-in-github",
        "colab_type": "text"
      },
      "source": [
        "<a href=\"https://colab.research.google.com/github/amirmohammadkalateh/subclass-API/blob/main/Subclass_API.ipynb\" target=\"_parent\"><img src=\"https://colab.research.google.com/assets/colab-badge.svg\" alt=\"Open In Colab\"/></a>"
      ]
    },
    {
      "cell_type": "code",
      "execution_count": 9,
      "metadata": {
        "id": "WYhZgf1e6HGc"
      },
      "outputs": [],
      "source": [
        "#object oriented/class\n",
        "import tensorflow as tf\n",
        "from tensorflow import keras\n"
      ]
    },
    {
      "cell_type": "code",
      "source": [
        "from os import name\n",
        "class WideAndDeep (keras.Model) :\n",
        "  def __init__(self, activation = \"relu\" ,**kwargs) :\n",
        "    super().__init__(**kwargs)\n",
        "    self.hiddel_layer_1 = keras.layers.Dense(50,activation = activation)\n",
        "    self.hiddel_layer_2 = keras.layers.Dense(10,activation = activation)\n",
        "    self.final_output = keras.layers.Dense(1)\n",
        "    self.helper_output = keras.layers.Dense(1)\n",
        "\n",
        "  def call (self , inputs) :\n",
        "    input_1,input_2 = inputs\n",
        "    h1_out = self.hidden_layer_1 (input_1)\n",
        "    h2_out = self.hidden_layer_1 (h1_out)\n",
        "    concat_out = keras.layers.concatenate([input_2, h2_out])\n",
        "    final_out = self.final_output(concat_out)\n",
        "    heper_out = self.helper_output(h2_out)\n",
        "    return final_out , helper_out\n",
        ""
      ],
      "metadata": {
        "id": "Ml6sIyaU6o8c"
      },
      "execution_count": 17,
      "outputs": []
    },
    {
      "cell_type": "code",
      "source": [
        "model = WideAndDeep()"
      ],
      "metadata": {
        "id": "AfvWLsuPBoXG"
      },
      "execution_count": 19,
      "outputs": []
    },
    {
      "cell_type": "code",
      "source": [],
      "metadata": {
        "id": "CnV2aO_WBuZt"
      },
      "execution_count": null,
      "outputs": []
    }
  ]
}